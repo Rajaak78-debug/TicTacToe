{
 "cells": [
  {
   "cell_type": "code",
   "execution_count": 1,
   "id": "7bdfb503",
   "metadata": {},
   "outputs": [],
   "source": [
    "import os\n",
    "import random\n",
    "\n",
    "# Clear output function (works in both Jupyter and VS Code)\n",
    "def clear_output():\n",
    "    os.system('cls' if os.name == 'nt' else 'clear')\n",
    "\n",
    "# Display the board\n",
    "def display_board(board):\n",
    "    clear_output()\n",
    "    print(board[7] + '|' + board[8] + '|' + board[9])\n",
    "    print('-+-+-')\n",
    "    print(board[4] + '|' + board[5] + '|' + board[6])\n",
    "    print('-+-+-')\n",
    "    print(board[1] + '|' + board[2] + '|' + board[3])"
   ]
  },
  {
   "cell_type": "code",
   "execution_count": 2,
   "id": "dc412efe",
   "metadata": {},
   "outputs": [],
   "source": [
    "def player_input():\n",
    "    marker = ''\n",
    "    while marker not in ['X', 'O']:\n",
    "        marker = input('Player 1: Do you want to be X or O? ').upper()\n",
    "    return ('X', 'O') if marker == 'X' else ('O', 'X')"
   ]
  },
  {
   "cell_type": "code",
   "execution_count": 3,
   "id": "53c4d77f",
   "metadata": {},
   "outputs": [],
   "source": [
    "def place_marker(board, marker, position):\n",
    "    board[position] = marker"
   ]
  },
  {
   "cell_type": "code",
   "execution_count": 4,
   "id": "2cc44287",
   "metadata": {},
   "outputs": [],
   "source": [
    "def win_check(board, marker):\n",
    "    return ((board[7] == board[8] == board[9] == marker) or\n",
    "            (board[4] == board[5] == board[6] == marker) or\n",
    "            (board[1] == board[2] == board[3] == marker) or\n",
    "            (board[7] == board[4] == board[1] == marker) or\n",
    "            (board[8] == board[5] == board[2] == marker) or\n",
    "            (board[9] == board[6] == board[3] == marker) or\n",
    "            (board[7] == board[5] == board[3] == marker) or\n",
    "            (board[9] == board[5] == board[1] == marker))\n"
   ]
  },
  {
   "cell_type": "code",
   "execution_count": 5,
   "id": "c02b2c4f",
   "metadata": {},
   "outputs": [],
   "source": [
    "def choose_first():\n",
    "    return 'Player 1' if random.randint(0, 1) == 0 else 'Player 2'\n"
   ]
  },
  {
   "cell_type": "code",
   "execution_count": 6,
   "id": "a32f49e3",
   "metadata": {},
   "outputs": [],
   "source": [
    "def space_check(board, position):\n",
    "    return board[position] == ' '\n"
   ]
  },
  {
   "cell_type": "code",
   "execution_count": 7,
   "id": "c6366bb3",
   "metadata": {},
   "outputs": [],
   "source": [
    "def full_board_check(board):\n",
    "    for i in range(1, 10):\n",
    "        if space_check(board, i):\n",
    "            return False\n",
    "    return True\n"
   ]
  },
  {
   "cell_type": "code",
   "execution_count": 8,
   "id": "15903c05",
   "metadata": {},
   "outputs": [],
   "source": [
    "def player_choice(board):\n",
    "    position = 0\n",
    "    while position not in range(1, 10) or not space_check(board, position):\n",
    "        try:\n",
    "            position = int(input('Choose a position (1-9): '))\n",
    "        except ValueError:\n",
    "            print(\"Please enter a number between 1 and 9.\")\n",
    "    return position\n"
   ]
  },
  {
   "cell_type": "code",
   "execution_count": 9,
   "id": "221978a9",
   "metadata": {},
   "outputs": [],
   "source": [
    "def replay():\n",
    "    return input(\"Play again? Enter Yes or No: \").lower().startswith('y')\n"
   ]
  },
  {
   "cell_type": "code",
   "execution_count": null,
   "id": "1065d9d2",
   "metadata": {},
   "outputs": [
    {
     "name": "stdout",
     "output_type": "stream",
     "text": [
      "Welcome to Tic Tac Toe!\n",
      "Player 1 will go first.\n",
      " | | \n",
      "-+-+-\n",
      " | | \n",
      "-+-+-\n",
      " | | \n",
      " | | \n",
      "-+-+-\n",
      " | | \n",
      "-+-+-\n",
      " | |O\n",
      " | | \n",
      "-+-+-\n",
      " | | \n",
      "-+-+-\n",
      " |X|O\n",
      "O| | \n",
      "-+-+-\n",
      " | | \n",
      "-+-+-\n",
      " |X|O\n",
      "O|X| \n",
      "-+-+-\n",
      " | | \n",
      "-+-+-\n",
      " |X|O\n",
      "O|X|O\n",
      "-+-+-\n",
      " | | \n",
      "-+-+-\n",
      " |X|O\n",
      "O|X|O\n",
      "-+-+-\n",
      " |X| \n",
      "-+-+-\n",
      " |X|O\n",
      "Congratulations! Player 2 wins!\n"
     ]
    }
   ],
   "source": [
    "# Game starts here\n",
    "print(\"Welcome to Tic Tac Toe!\")\n",
    "\n",
    "while True:\n",
    "    # Reset the board\n",
    "    theBoard = [' '] * 10\n",
    "    player1_marker, player2_marker = player_input()\n",
    "    turn = choose_first()\n",
    "    print(turn + ' will go first.')\n",
    "\n",
    "    play_game = input('Are you ready to play? Enter Yes or No: ').lower()\n",
    "    game_on = play_game.startswith('y')\n",
    "\n",
    "    while game_on:\n",
    "        if turn == 'Player 1':\n",
    "            display_board(theBoard)\n",
    "            position = player_choice(theBoard)\n",
    "            place_marker(theBoard, player1_marker, position)\n",
    "\n",
    "            if win_check(theBoard, player1_marker):\n",
    "                display_board(theBoard)\n",
    "                print(\"Congratulations! Player 1 wins!\")\n",
    "                game_on = False\n",
    "            else:\n",
    "                if full_board_check(theBoard):\n",
    "                    display_board(theBoard)\n",
    "                    print(\"The game is a draw!\")\n",
    "                    break\n",
    "                else:\n",
    "                    turn = 'Player 2'\n",
    "\n",
    "        else:\n",
    "            display_board(theBoard)\n",
    "            position = player_choice(theBoard)\n",
    "            place_marker(theBoard, player2_marker, position)\n",
    "\n",
    "            if win_check(theBoard, player2_marker):\n",
    "                display_board(theBoard)\n",
    "                print(\"Congratulations! Player 2 wins!\")\n",
    "                game_on = False\n",
    "            else:\n",
    "                if full_board_check(theBoard):\n",
    "                    display_board(theBoard)\n",
    "                    print(\"The game is a draw!\")\n",
    "                    break\n",
    "                else:\n",
    "                    turn = 'Player 1'\n",
    "\n",
    "    if not replay():\n",
    "        break"
   ]
  }
 ],
 "metadata": {
  "kernelspec": {
   "display_name": "Python 3",
   "language": "python",
   "name": "python3"
  },
  "language_info": {
   "codemirror_mode": {
    "name": "ipython",
    "version": 3
   },
   "file_extension": ".py",
   "mimetype": "text/x-python",
   "name": "python",
   "nbconvert_exporter": "python",
   "pygments_lexer": "ipython3",
   "version": "3.13.5"
  }
 },
 "nbformat": 4,
 "nbformat_minor": 5
}
